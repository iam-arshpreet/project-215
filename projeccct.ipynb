{
  "nbformat": 4,
  "nbformat_minor": 0,
  "metadata": {
    "colab": {
      "provenance": [],
      "authorship_tag": "ABX9TyPqV0JsL76SXHs8PRcjQVPm",
      "include_colab_link": true
    },
    "kernelspec": {
      "name": "python3",
      "display_name": "Python 3"
    },
    "language_info": {
      "name": "python"
    }
  },
  "cells": [
    {
      "cell_type": "markdown",
      "metadata": {
        "id": "view-in-github",
        "colab_type": "text"
      },
      "source": [
        "<a href=\"https://colab.research.google.com/github/iam-arshpreet/project-215/blob/main/projeccct.ipynb\" target=\"_parent\"><img src=\"https://colab.research.google.com/assets/colab-badge.svg\" alt=\"Open In Colab\"/></a>"
      ]
    },
    {
      "cell_type": "code",
      "execution_count": 89,
      "metadata": {
        "id": "hW7pwnSbVeiG",
        "outputId": "29003d19-439b-4aad-9b60-48b550e1298a",
        "colab": {
          "base_uri": "https://localhost:8080/",
          "height": 487
        }
      },
      "outputs": [
        {
          "output_type": "stream",
          "name": "stdout",
          "text": [
            "circle is (35, 59),5,17, green\n",
            "circle is (58, 58),7,10, red\n"
          ]
        },
        {
          "output_type": "display_data",
          "data": {
            "text/plain": [
              "<Figure size 640x480 with 1 Axes>"
            ],
            "image/png": "[encoded data removed]"
          },
          "metadata": {}
        },
        {
          "output_type": "execute_result",
          "data": {
            "text/plain": [
              "'all tests passed'"
            ],
            "application/vnd.google.colaboratory.intrinsic+json": {
              "type": "string"
            }
          },
          "metadata": {},
          "execution_count": 89
        }
      ],
      "source": [
        "import itertools\n",
        "import math\n",
        "import matplotlib.pyplot as plt\n",
        "from matplotlib.animation import FuncAnimation\n",
        "import random\n",
        "\n",
        "class Circle:\n",
        "    ''' represents a circle'''\n",
        "\n",
        "    def __init__(self, radius:float, color:str, velocity = 0, centre = (0,0)):\n",
        "        self.centre = centre\n",
        "        self.radius = radius\n",
        "        self.velocity = velocity\n",
        "        self.color = color\n",
        "\n",
        "    def __str__(self):\n",
        "         return f'circle is {self.centre},{self.radius},{self.velocity}, {self.color}'\n",
        "\n",
        "    def motion(self, time_1_step=0.01, move_tuple=(0,0)):\n",
        "        ''' moves the circle by given amount'''\n",
        "        if move_tuple == (0,0):\n",
        "          new_centre = (self.centre[0] + (self.velocity*time_1_step), self.centre[1] + (self.velocity*time_1_step))\n",
        "        else:\n",
        "          new_centre = (self.centre[0] + move_tuple[0], self.centre[1] + move_tuple[1])\n",
        "        self.centre = new_centre\n",
        "\n",
        "    def collision_detection(self, other_circle):\n",
        "        distance_bw_circles = math.sqrt(pow((self.centre[0] - other_circle.centre[0]),2) + pow((self.centre[1] - other_circle.centre[1]),2))\n",
        "        return distance_bw_circles<(self.radius+other_circle.radius)\n",
        "\n",
        "\n",
        "class Simulation:\n",
        "    ''' Manages all the circle objects'''\n",
        "\n",
        "    def __init__(self, n_circles, steps, time_1_step ):\n",
        "        self.circles = [0]*n_circles\n",
        "        self.n_circles = n_circles\n",
        "        self.steps = steps\n",
        "        self.time_1_step = time_1_step\n",
        "        for i in range(self.n_circles):\n",
        "            rad = random.randint(2,8)\n",
        "            cent = (random.randint(10, 80), random.randint(10, 80))\n",
        "            vel = random.randint(10,20)\n",
        "            colors = ['red', 'blue', 'green', 'yellow']\n",
        "            col = colors[random.randint(0,3)]\n",
        "            self.circles[i] = (Circle(rad, col, vel, cent))\n",
        "        for j in self.circles:\n",
        "          print(j)\n",
        "\n",
        "    def collision(self):\n",
        "        ''' collision happens'''\n",
        "        # for i in range(self.steps):\n",
        "        for circle in self.circles:\n",
        "                circle.motion(self.time_1_step)\n",
        "                for circle1, circle2 in itertools.combinations(self.circles, 2):  #idea of itertools from stack overflow\n",
        "                    if circle1.collision_detection(circle2):\n",
        "                        circle1.color = 'black'\n",
        "                        circle2.color = 'black'\n",
        "\n",
        "    def animate(self):\n",
        "        fig, ax = plt.subplots()\n",
        "        ax.set_xlim(0, 100)\n",
        "        ax.set_ylim(0, 100)\n",
        "        circles_plot = [plt.Circle(circle.centre, circle.radius, color = circle.color) for circle in self.circles]\n",
        "\n",
        "\n",
        "\n",
        "        # def init():\n",
        "        #     for circle_plot in circles_plot:\n",
        "        #         ax.add_patch(circle_plot)\n",
        "        #     return circles_plot\n",
        "        for i in range(self.steps):\n",
        "          self.collision()\n",
        "          for i in range(len(circles_plot)):\n",
        "            circles_plot[i].center = self.circles[i].centre\n",
        "            for circle_plot in circles_plot:\n",
        "               ax.add_patch(circle_plot)\n",
        "          plt.pause(0.01)\n",
        "        # def update(frame):\n",
        "        #     self.collision()\n",
        "        #     for i in range(len(circles_plot)):\n",
        "        #         circles_plot[i].center = self.circles[i].centre\n",
        "        #     return circles_plot\n",
        "\n",
        "        # anim = FuncAnimation(fig, update, frames=self.steps, init_func=init,  blit=True)\n",
        "        # plt.show()\n",
        "\n",
        "# Example usage\n",
        "simulation = Simulation(n_circles=2, steps=100, time_1_step=0.01)\n",
        "simulation.animate()\n",
        "\n",
        "\n",
        "\n",
        "\n",
        "\n",
        "def test():\n",
        "\n",
        "  time_1_step = 0.01\n",
        "  velocity = 10\n",
        "  centre = (2,3)\n",
        "  my_circle = Circle(4,'red',5, (5,6))\n",
        "  your_circle = Circle(5,'blue',6,(8,15))\n",
        "  my_circle.motion(move_tuple=(2,3))\n",
        "\n",
        "  assert  my_circle.centre == (7,9)\n",
        "  assert your_circle.collision_detection(my_circle) == True\n",
        "\n",
        "  return \"all tests passed\"\n",
        "\n",
        "test()"
      ]
    }
  ]
}